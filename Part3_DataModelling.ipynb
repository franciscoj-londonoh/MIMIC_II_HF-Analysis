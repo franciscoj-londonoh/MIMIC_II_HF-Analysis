{
 "cells": [
  {
   "cell_type": "markdown",
   "metadata": {},
   "source": [
    "# 3. Data Modelling: Systolic and Diastolic Failure Classification"
   ]
  },
  {
   "cell_type": "code",
   "execution_count": 30,
   "metadata": {},
   "outputs": [],
   "source": [
    "# Import libraries\n",
    "import numpy as np\n",
    "import pandas as pd\n",
    "import seaborn as sns\n",
    "import matplotlib.pyplot as plt\n",
    "import psycopg2\n",
    "import getpass\n",
    "%matplotlib inline\n",
    "plt.style.use('ggplot')\n",
    "\n",
    "from sklearn.model_selection import train_test_split\n",
    "\n",
    "from sklearn.ensemble import RandomForestClassifier\n",
    "from sklearn.impute import KNNImputer\n",
    "from sklearn.model_selection import cross_val_score\n",
    "from sklearn.model_selection import RepeatedStratifiedKFold\n",
    "from sklearn.pipeline import Pipeline\n",
    "from sklearn.model_selection import GridSearchCV\n",
    "from sklearn.preprocessing import StandardScaler"
   ]
  },
  {
   "cell_type": "markdown",
   "metadata": {},
   "source": [
    "## Systolic and Diastolic Classification\n",
    "The previously created DataFrame is uploaded, and the feature matrix and target vector are selected from DataFrame columns. A classifier model is also selected, as well as an imputer to fill the NaNs values of the feature matrix, and a pipeline is defined to perform the data imputation and modeling. Then, a cross validation is performed assessing the accuracy and F1 score of the selected model."
   ]
  },
  {
   "cell_type": "code",
   "execution_count": 20,
   "metadata": {},
   "outputs": [],
   "source": [
    "# Load saved DataFrame\n",
    "HF_df_data = pd.read_pickle('HF_df.pkl')"
   ]
  },
  {
   "cell_type": "code",
   "execution_count": 21,
   "metadata": {},
   "outputs": [],
   "source": [
    "# Asignar data to xxx matrix and vector target\n",
    "X = HF_df_data.drop(columns=['HF_diagnosis'])\n",
    "y = HF_df_data['HF_diagnosis']"
   ]
  },
  {
   "cell_type": "code",
   "execution_count": 31,
   "metadata": {},
   "outputs": [
    {
     "name": "stdout",
     "output_type": "stream",
     "text": [
      "Mean Accuracy: 0.986 (0.022)\n",
      "Mean F1: 0.986 (0.025)\n"
     ]
    }
   ],
   "source": [
    "# Define modeling pipeline\n",
    "model = RandomForestClassifier()\n",
    "imputer = KNNImputer()\n",
    "scaler = StandardScaler()\n",
    "pipeline = Pipeline(steps=[('i', imputer), ('s', scaler), ('m', model)])\n",
    "# Define model evaluation\n",
    "cv = RepeatedStratifiedKFold(n_splits=10, n_repeats=4, random_state=42)\n",
    "# Evaluate model\n",
    "for i in range(1):\n",
    "    scores_acc = cross_val_score(pipeline, X, y, scoring='accuracy', cv=cv, n_jobs=-1, error_score='raise')\n",
    "    scores_f1 = cross_val_score(pipeline, X, y, scoring='f1_macro', cv=cv, n_jobs=-1, error_score='raise')\n",
    "    print('Mean Accuracy: %.3f (%.3f)' % (np.mean(scores_acc), np.std(scores_acc)))\n",
    "    print('Mean F1: %.3f (%.3f)' % (np.mean(scores_f1), np.std(scores_f1)))"
   ]
  },
  {
   "cell_type": "markdown",
   "metadata": {},
   "source": [
    "### Data distribution and Feature analysis\n",
    "The distribution and balance of both classification categories (Systolic and Diastolic Heart Failure) is checked, including during the cross-validation splits. Then, feature importance is analyzed delivering interesting results regarding which measurements seem to have relevant difference between Systolic and Diastolic Failure patients."
   ]
  },
  {
   "cell_type": "code",
   "execution_count": 23,
   "metadata": {},
   "outputs": [
    {
     "data": {
      "text/plain": [
       "Dias    146\n",
       "Sys     122\n",
       "Name: HF_diagnosis, dtype: int64"
      ]
     },
     "execution_count": 23,
     "metadata": {},
     "output_type": "execute_result"
    }
   ],
   "source": [
    "y.value_counts()"
   ]
  },
  {
   "cell_type": "code",
   "execution_count": 24,
   "metadata": {},
   "outputs": [
    {
     "name": "stdout",
     "output_type": "stream",
     "text": [
      "TRAIN: Dias    132\n",
      "Sys     109\n",
      "Name: HF_diagnosis, dtype: int64 TEST: Dias    14\n",
      "Sys     13\n",
      "Name: HF_diagnosis, dtype: int64\n",
      "TRAIN: Dias    132\n",
      "Sys     109\n",
      "Name: HF_diagnosis, dtype: int64 TEST: Dias    14\n",
      "Sys     13\n",
      "Name: HF_diagnosis, dtype: int64\n",
      "TRAIN: Dias    131\n",
      "Sys     110\n",
      "Name: HF_diagnosis, dtype: int64 TEST: Dias    15\n",
      "Sys     12\n",
      "Name: HF_diagnosis, dtype: int64\n",
      "TRAIN: Dias    131\n",
      "Sys     110\n",
      "Name: HF_diagnosis, dtype: int64 TEST: Dias    15\n",
      "Sys     12\n",
      "Name: HF_diagnosis, dtype: int64\n",
      "TRAIN: Dias    131\n",
      "Sys     110\n",
      "Name: HF_diagnosis, dtype: int64 TEST: Dias    15\n",
      "Sys     12\n",
      "Name: HF_diagnosis, dtype: int64\n",
      "TRAIN: Dias    131\n",
      "Sys     110\n",
      "Name: HF_diagnosis, dtype: int64 TEST: Dias    15\n",
      "Sys     12\n",
      "Name: HF_diagnosis, dtype: int64\n",
      "TRAIN: Dias    131\n",
      "Sys     110\n",
      "Name: HF_diagnosis, dtype: int64 TEST: Dias    15\n",
      "Sys     12\n",
      "Name: HF_diagnosis, dtype: int64\n",
      "TRAIN: Dias    131\n",
      "Sys     110\n",
      "Name: HF_diagnosis, dtype: int64 TEST: Dias    15\n",
      "Sys     12\n",
      "Name: HF_diagnosis, dtype: int64\n",
      "TRAIN: Dias    132\n",
      "Sys     110\n",
      "Name: HF_diagnosis, dtype: int64 TEST: Dias    14\n",
      "Sys     12\n",
      "Name: HF_diagnosis, dtype: int64\n",
      "TRAIN: Dias    132\n",
      "Sys     110\n",
      "Name: HF_diagnosis, dtype: int64 TEST: Dias    14\n",
      "Sys     12\n",
      "Name: HF_diagnosis, dtype: int64\n",
      "TRAIN: Dias    132\n",
      "Sys     109\n",
      "Name: HF_diagnosis, dtype: int64 TEST: Dias    14\n",
      "Sys     13\n",
      "Name: HF_diagnosis, dtype: int64\n",
      "TRAIN: Dias    132\n",
      "Sys     109\n",
      "Name: HF_diagnosis, dtype: int64 TEST: Dias    14\n",
      "Sys     13\n",
      "Name: HF_diagnosis, dtype: int64\n",
      "TRAIN: Dias    131\n",
      "Sys     110\n",
      "Name: HF_diagnosis, dtype: int64 TEST: Dias    15\n",
      "Sys     12\n",
      "Name: HF_diagnosis, dtype: int64\n",
      "TRAIN: Dias    131\n",
      "Sys     110\n",
      "Name: HF_diagnosis, dtype: int64 TEST: Dias    15\n",
      "Sys     12\n",
      "Name: HF_diagnosis, dtype: int64\n",
      "TRAIN: Dias    131\n",
      "Sys     110\n",
      "Name: HF_diagnosis, dtype: int64 TEST: Dias    15\n",
      "Sys     12\n",
      "Name: HF_diagnosis, dtype: int64\n",
      "TRAIN: Dias    131\n",
      "Sys     110\n",
      "Name: HF_diagnosis, dtype: int64 TEST: Dias    15\n",
      "Sys     12\n",
      "Name: HF_diagnosis, dtype: int64\n",
      "TRAIN: Dias    131\n",
      "Sys     110\n",
      "Name: HF_diagnosis, dtype: int64 TEST: Dias    15\n",
      "Sys     12\n",
      "Name: HF_diagnosis, dtype: int64\n",
      "TRAIN: Dias    131\n",
      "Sys     110\n",
      "Name: HF_diagnosis, dtype: int64 TEST: Dias    15\n",
      "Sys     12\n",
      "Name: HF_diagnosis, dtype: int64\n",
      "TRAIN: Dias    132\n",
      "Sys     110\n",
      "Name: HF_diagnosis, dtype: int64 TEST: Dias    14\n",
      "Sys     12\n",
      "Name: HF_diagnosis, dtype: int64\n",
      "TRAIN: Dias    132\n",
      "Sys     110\n",
      "Name: HF_diagnosis, dtype: int64 TEST: Dias    14\n",
      "Sys     12\n",
      "Name: HF_diagnosis, dtype: int64\n",
      "TRAIN: Dias    132\n",
      "Sys     109\n",
      "Name: HF_diagnosis, dtype: int64 TEST: Dias    14\n",
      "Sys     13\n",
      "Name: HF_diagnosis, dtype: int64\n",
      "TRAIN: Dias    132\n",
      "Sys     109\n",
      "Name: HF_diagnosis, dtype: int64 TEST: Dias    14\n",
      "Sys     13\n",
      "Name: HF_diagnosis, dtype: int64\n",
      "TRAIN: Dias    131\n",
      "Sys     110\n",
      "Name: HF_diagnosis, dtype: int64 TEST: Dias    15\n",
      "Sys     12\n",
      "Name: HF_diagnosis, dtype: int64\n",
      "TRAIN: Dias    131\n",
      "Sys     110\n",
      "Name: HF_diagnosis, dtype: int64 TEST: Dias    15\n",
      "Sys     12\n",
      "Name: HF_diagnosis, dtype: int64\n",
      "TRAIN: Dias    131\n",
      "Sys     110\n",
      "Name: HF_diagnosis, dtype: int64 TEST: Dias    15\n",
      "Sys     12\n",
      "Name: HF_diagnosis, dtype: int64\n",
      "TRAIN: Dias    131\n",
      "Sys     110\n",
      "Name: HF_diagnosis, dtype: int64 TEST: Dias    15\n",
      "Sys     12\n",
      "Name: HF_diagnosis, dtype: int64\n",
      "TRAIN: Dias    131\n",
      "Sys     110\n",
      "Name: HF_diagnosis, dtype: int64 TEST: Dias    15\n",
      "Sys     12\n",
      "Name: HF_diagnosis, dtype: int64\n",
      "TRAIN: Dias    131\n",
      "Sys     110\n",
      "Name: HF_diagnosis, dtype: int64 TEST: Dias    15\n",
      "Sys     12\n",
      "Name: HF_diagnosis, dtype: int64\n",
      "TRAIN: Dias    132\n",
      "Sys     110\n",
      "Name: HF_diagnosis, dtype: int64 TEST: Dias    14\n",
      "Sys     12\n",
      "Name: HF_diagnosis, dtype: int64\n",
      "TRAIN: Dias    132\n",
      "Sys     110\n",
      "Name: HF_diagnosis, dtype: int64 TEST: Dias    14\n",
      "Sys     12\n",
      "Name: HF_diagnosis, dtype: int64\n",
      "TRAIN: Dias    132\n",
      "Sys     109\n",
      "Name: HF_diagnosis, dtype: int64 TEST: Dias    14\n",
      "Sys     13\n",
      "Name: HF_diagnosis, dtype: int64\n",
      "TRAIN: Dias    132\n",
      "Sys     109\n",
      "Name: HF_diagnosis, dtype: int64 TEST: Dias    14\n",
      "Sys     13\n",
      "Name: HF_diagnosis, dtype: int64\n",
      "TRAIN: Dias    131\n",
      "Sys     110\n",
      "Name: HF_diagnosis, dtype: int64 TEST: Dias    15\n",
      "Sys     12\n",
      "Name: HF_diagnosis, dtype: int64\n",
      "TRAIN: Dias    131\n",
      "Sys     110\n",
      "Name: HF_diagnosis, dtype: int64 TEST: Dias    15\n",
      "Sys     12\n",
      "Name: HF_diagnosis, dtype: int64\n",
      "TRAIN: Dias    131\n",
      "Sys     110\n",
      "Name: HF_diagnosis, dtype: int64 TEST: Dias    15\n",
      "Sys     12\n",
      "Name: HF_diagnosis, dtype: int64\n",
      "TRAIN: Dias    131\n",
      "Sys     110\n",
      "Name: HF_diagnosis, dtype: int64 TEST: Dias    15\n",
      "Sys     12\n",
      "Name: HF_diagnosis, dtype: int64\n",
      "TRAIN: Dias    131\n",
      "Sys     110\n",
      "Name: HF_diagnosis, dtype: int64 TEST: Dias    15\n",
      "Sys     12\n",
      "Name: HF_diagnosis, dtype: int64\n",
      "TRAIN: Dias    131\n",
      "Sys     110\n",
      "Name: HF_diagnosis, dtype: int64 TEST: Dias    15\n",
      "Sys     12\n",
      "Name: HF_diagnosis, dtype: int64\n",
      "TRAIN: Dias    132\n",
      "Sys     110\n",
      "Name: HF_diagnosis, dtype: int64 TEST: Dias    14\n",
      "Sys     12\n",
      "Name: HF_diagnosis, dtype: int64\n",
      "TRAIN: Dias    132\n",
      "Sys     110\n",
      "Name: HF_diagnosis, dtype: int64 TEST: Dias    14\n",
      "Sys     12\n",
      "Name: HF_diagnosis, dtype: int64\n"
     ]
    }
   ],
   "source": [
    "for train_index, test_index in cv.split(X, y):\n",
    "    print(\"TRAIN:\", y.iloc[train_index].value_counts(), \"TEST:\", y.iloc[test_index].value_counts())"
   ]
  },
  {
   "cell_type": "code",
   "execution_count": 33,
   "metadata": {},
   "outputs": [
    {
     "data": {
      "text/plain": [
       "Pipeline(steps=[('i', KNNImputer()), ('s', StandardScaler()),\n",
       "                ('m', RandomForestClassifier())])"
      ]
     },
     "execution_count": 33,
     "metadata": {},
     "output_type": "execute_result"
    }
   ],
   "source": [
    "pipeline.fit(X, y)"
   ]
  },
  {
   "cell_type": "code",
   "execution_count": 35,
   "metadata": {},
   "outputs": [
    {
     "data": {
      "image/png": "[encoded data removed]",
      "text/plain": [
       "<Figure size 576x396 with 1 Axes>"
      ]
     },
     "metadata": {},
     "output_type": "display_data"
    }
   ],
   "source": [
    "plt.style.use(\"seaborn\")\n",
    "\n",
    "pd.Series(pipeline.steps[2][1].feature_importances_, index=X.columns.values[:195]).nlargest(20).plot(kind='barh');\n",
    "plt.xlabel(\"Weigth\")\n",
    "plt.ylabel(\"Feature\");"
   ]
  },
  {
   "cell_type": "markdown",
   "metadata": {},
   "source": [
    "The graph shows which features, in this case physiological measurements, are the most relevant regarding the classification model to differentiate from both Heart Failure subtypes. These results could give an interesting idea of which features should be evaluated and could complement standard measurements. "
   ]
  },
  {
   "cell_type": "markdown",
   "metadata": {},
   "source": [
    "### Data Imputation Analysis\n",
    "The impact of the performed imputation is taken into account as it could have an important influence in the modeling results, showing that only around 3% of values in the feature matrix are imputed. "
   ]
  },
  {
   "cell_type": "code",
   "execution_count": 27,
   "metadata": {},
   "outputs": [
    {
     "name": "stdout",
     "output_type": "stream",
     "text": [
      "Total: 1122215\n",
      "Missing: 42954\n",
      "Percentage: 3.828\n",
      "Missing: 0\n"
     ]
    }
   ],
   "source": [
    "# print total missing\n",
    "print('Total: %d' % sum(X.sum()))\n",
    "# print total missing\n",
    "print('Missing: %d' % sum(X.isnull().sum()))\n",
    "\n",
    "print('Percentage: %.3f' % (sum(X.isnull().sum())/sum(X.sum())*100))\n",
    "\n",
    "# define imputer\n",
    "imputer = KNNImputer()\n",
    "# fit on the dataset\n",
    "imputer.fit(X)\n",
    "# transform the dataset\n",
    "Xtrans = imputer.transform(X)\n",
    "# print total missing\n",
    "print('Missing: %d' % np.isnan(Xtrans).sum())"
   ]
  },
  {
   "cell_type": "code",
   "execution_count": 28,
   "metadata": {},
   "outputs": [
    {
     "data": {
      "text/plain": [
       "3.827605400090949"
      ]
     },
     "execution_count": 28,
     "metadata": {},
     "output_type": "execute_result"
    }
   ],
   "source": [
    "sum(X.isnull().sum())/sum(X.sum())*100"
   ]
  },
  {
   "cell_type": "code",
   "execution_count": 36,
   "metadata": {},
   "outputs": [
    {
     "name": "stdout",
     "output_type": "stream",
     "text": [
      "Mean Accuracy: 0.989 (0.019)\n",
      "Mean F1: 0.990 (0.021)\n"
     ]
    }
   ],
   "source": [
    "# Define model evaluation\n",
    "cv = RepeatedStratifiedKFold(n_splits=10, n_repeats=4, random_state=42)\n",
    "\n",
    "# Define modeling pipeline\n",
    "clf = RandomForestClassifier()\n",
    "param_grid = {\n",
    "    'n_estimators': [200, 700],\n",
    "    'max_features': ['auto', 'sqrt', 'log2']\n",
    "}\n",
    "model = GridSearchCV(estimator=clf, param_grid=param_grid, cv=cv)\n",
    "imputer = KNNImputer()\n",
    "scaler = StandardScaler()\n",
    "pipeline = Pipeline(steps=[('i', imputer), ('s', scaler), ('m', model)])\n",
    "\n",
    "# Evaluate model\n",
    "for i in range(1):\n",
    "    scores_acc = cross_val_score(pipeline, X, y, scoring='accuracy', cv=cv, n_jobs=-1, error_score='raise')\n",
    "    scores_f1 = cross_val_score(pipeline, X, y, scoring='f1_macro', cv=cv, n_jobs=-1, error_score='raise')\n",
    "    print('Mean Accuracy: %.3f (%.3f)' % (np.mean(scores_acc), np.std(scores_acc)))\n",
    "    print('Mean F1: %.3f (%.3f)' % (np.mean(scores_f1), np.std(scores_f1)))"
   ]
  },
  {
   "cell_type": "markdown",
   "metadata": {},
   "source": [
    "## Conclusions\n",
    "A Classification model is proposed to differentiate Heart Failure subtypes. Specifically, a Random Forest Classifier implement within a pipeline that includes an imputation step. The general accuracy and F1 score of the model show values above 98%. Thus, an analysis of the feature importance for the model is also included, as an analysis of the imputation data process to assess the final results in context. \n",
    "The final implemented model accomplishes the classification task proposed."
   ]
  }
 ],
 "metadata": {
  "kernelspec": {
   "display_name": "Python 3",
   "language": "python",
   "name": "python3"
  },
  "language_info": {
   "codemirror_mode": {
    "name": "ipython",
    "version": 3
   },
   "file_extension": ".py",
   "mimetype": "text/x-python",
   "name": "python",
   "nbconvert_exporter": "python",
   "pygments_lexer": "ipython3",
   "version": "3.6.10"
  }
 },
 "nbformat": 4,
 "nbformat_minor": 4
}
